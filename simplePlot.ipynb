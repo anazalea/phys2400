{
 "cells": [
  {
   "cell_type": "markdown",
   "metadata": {},
   "source": [
    "## Making a Simple Plot with Python\n",
    "\n",
    "Here, we'll make some very simple plots with Python. \n",
    "\n",
    "First, let's load the python libraries we'll use: NumPy (which allows us to manipulate arrays of numbers and has lots of mathy functions) and matplotlib.pyplot (which lets us make all kinds of plots.) To execute the code in a cell of your jupyter notebook, press shift+return."
   ]
  },
  {
   "cell_type": "code",
   "execution_count": 31,
   "metadata": {
    "collapsed": false
   },
   "outputs": [],
   "source": [
    "import numpy as np \n",
    "import matplotlib.pyplot as plt\n",
    "%matplotlib inline \n",
    "# This line tells the notebook that when we make a plot, we want to see it right away"
   ]
  },
  {
   "cell_type": "markdown",
   "metadata": {},
   "source": [
    "The NumPy array is a great way to store a bunch of numbers that you want to analyze or plot. We'll learn how to read data from a file into a NumPy array later, but for now we can create one like this:"
   ]
  },
  {
   "cell_type": "code",
   "execution_count": 32,
   "metadata": {
    "collapsed": true
   },
   "outputs": [],
   "source": [
    "x = np.array([  6.75696653,   2.63719654,   4.11100328,   5.92035153,\n",
    "         8.33389304,  -0.22703768,   7.27983009,   8.04383391,\n",
    "        10.70744198,   2.6992453 ])"
   ]
  },
  {
   "cell_type": "markdown",
   "metadata": {},
   "source": [
    "Now, the variable x contains those 10 numbers and we can use them as we please."
   ]
  },
  {
   "cell_type": "code",
   "execution_count": 33,
   "metadata": {
    "collapsed": false
   },
   "outputs": [
    {
     "data": {
      "text/plain": [
       "array([  6.75696653,   2.63719654,   4.11100328,   5.92035153,\n",
       "         8.33389304,  -0.22703768,   7.27983009,   8.04383391,\n",
       "        10.70744198,   2.6992453 ])"
      ]
     },
     "execution_count": 33,
     "metadata": {},
     "output_type": "execute_result"
    }
   ],
   "source": [
    "x"
   ]
  },
  {
   "cell_type": "code",
   "execution_count": 34,
   "metadata": {
    "collapsed": false
   },
   "outputs": [
    {
     "data": {
      "text/plain": [
       "array([  4.56565967e+01,   6.95480559e+00,   1.69003480e+01,\n",
       "         3.50505622e+01,   6.94537732e+01,   5.15461081e-02,\n",
       "         5.29959261e+01,   6.47032640e+01,   1.14649314e+02,\n",
       "         7.28592519e+00])"
      ]
     },
     "execution_count": 34,
     "metadata": {},
     "output_type": "execute_result"
    }
   ],
   "source": [
    "x**2"
   ]
  },
  {
   "cell_type": "code",
   "execution_count": 35,
   "metadata": {
    "collapsed": false
   },
   "outputs": [
    {
     "data": {
      "text/plain": [
       "array([ 13.51393306,   5.27439308,   8.22200656,  11.84070306,\n",
       "        16.66778608,  -0.45407536,  14.55966018,  16.08766782,\n",
       "        21.41488396,   5.3984906 ])"
      ]
     },
     "execution_count": 35,
     "metadata": {},
     "output_type": "execute_result"
    }
   ],
   "source": [
    "2*x"
   ]
  },
  {
   "cell_type": "code",
   "execution_count": 36,
   "metadata": {
    "collapsed": false
   },
   "outputs": [
    {
     "data": {
      "text/plain": [
       "array([ 0.45625426,  0.48327885, -0.8245524 , -0.35492494,  0.88703583,\n",
       "       -0.22509222,  0.83965342,  0.98203212, -0.95877627,  0.42806206])"
      ]
     },
     "execution_count": 36,
     "metadata": {},
     "output_type": "execute_result"
    }
   ],
   "source": [
    "np.sin(x)"
   ]
  },
  {
   "cell_type": "markdown",
   "metadata": {},
   "source": [
    "Everytime we operate on x like we did in the last cells (by squaring it, multiplying it, calculating the sin of it) we create another numpy array with the answer. So far we haven't put them anywhere. Now let's create another array that contains the cosine of x."
   ]
  },
  {
   "cell_type": "code",
   "execution_count": 37,
   "metadata": {
    "collapsed": false
   },
   "outputs": [],
   "source": [
    "y = np.cos(x)"
   ]
  },
  {
   "cell_type": "markdown",
   "metadata": {},
   "source": [
    "The cosine values are now stored in y."
   ]
  },
  {
   "cell_type": "code",
   "execution_count": 38,
   "metadata": {
    "collapsed": false
   },
   "outputs": [
    {
     "data": {
      "text/plain": [
       "array([ 0.88984945, -0.87546648, -0.5657856 ,  0.9348948 , -0.46170059,\n",
       "        0.97433746,  0.54312258, -0.18871383, -0.28416202, -0.90374934])"
      ]
     },
     "execution_count": 38,
     "metadata": {},
     "output_type": "execute_result"
    }
   ],
   "source": [
    "y"
   ]
  },
  {
   "cell_type": "markdown",
   "metadata": {},
   "source": [
    "Let's make a simple plot of x vs cos(x) with axis labels."
   ]
  },
  {
   "cell_type": "code",
   "execution_count": 42,
   "metadata": {
    "collapsed": false
   },
   "outputs": [
    {
     "data": {
      "text/plain": [
       "<matplotlib.text.Text at 0x107251a20>"
      ]
     },
     "execution_count": 42,
     "metadata": {},
     "output_type": "execute_result"
    },
    {
     "data": {
      "image/png": "[encoded data removed]",
      "text/plain": [
       "<matplotlib.figure.Figure at 0x107248eb8>"
      ]
     },
     "metadata": {},
     "output_type": "display_data"
    }
   ],
   "source": [
    "plt.scatter(x,y)\n",
    "plt.xlabel('x')\n",
    "plt.ylabel('cosine(x)')"
   ]
  },
  {
   "cell_type": "markdown",
   "metadata": {},
   "source": [
    "It's hard to see that that really worked. Let's use an array of regularly spaced values of x and do the same thing. The numpy function arange(a,b,c) creates an array of values from a to b with steps of size c between them. Once we assign new arrays of numbers to the variables x and y, the data we'd previously stored in them in forgotten. We can see this by printing their new values."
   ]
  },
  {
   "cell_type": "code",
   "execution_count": 45,
   "metadata": {
    "collapsed": false
   },
   "outputs": [
    {
     "name": "stdout",
     "output_type": "stream",
     "text": [
      "[ 0.   0.1  0.2  0.3  0.4  0.5  0.6  0.7  0.8  0.9  1.   1.1  1.2  1.3  1.4\n",
      "  1.5  1.6  1.7  1.8  1.9  2.   2.1  2.2  2.3  2.4  2.5  2.6  2.7  2.8  2.9\n",
      "  3.   3.1  3.2  3.3  3.4  3.5  3.6  3.7  3.8  3.9  4.   4.1  4.2  4.3  4.4\n",
      "  4.5  4.6  4.7  4.8  4.9  5.   5.1  5.2  5.3  5.4  5.5  5.6  5.7  5.8  5.9\n",
      "  6.   6.1  6.2  6.3  6.4  6.5  6.6  6.7  6.8  6.9  7.   7.1  7.2  7.3  7.4\n",
      "  7.5  7.6  7.7  7.8  7.9  8.   8.1  8.2  8.3  8.4  8.5  8.6  8.7  8.8  8.9\n",
      "  9.   9.1  9.2  9.3  9.4  9.5  9.6  9.7  9.8  9.9]\n",
      "[ 1.          0.99500417  0.98006658  0.95533649  0.92106099  0.87758256\n",
      "  0.82533561  0.76484219  0.69670671  0.62160997  0.54030231  0.45359612\n",
      "  0.36235775  0.26749883  0.16996714  0.0707372  -0.02919952 -0.12884449\n",
      " -0.22720209 -0.32328957 -0.41614684 -0.5048461  -0.58850112 -0.66627602\n",
      " -0.73739372 -0.80114362 -0.85688875 -0.90407214 -0.94222234 -0.97095817\n",
      " -0.9899925  -0.99913515 -0.99829478 -0.98747977 -0.96679819 -0.93645669\n",
      " -0.89675842 -0.84810003 -0.79096771 -0.7259323  -0.65364362 -0.57482395\n",
      " -0.49026082 -0.40079917 -0.30733287 -0.2107958  -0.11215253 -0.01238866\n",
      "  0.08749898  0.18651237  0.28366219  0.37797774  0.46851667  0.55437434\n",
      "  0.63469288  0.70866977  0.77556588  0.83471278  0.88551952  0.92747843\n",
      "  0.96017029  0.98326844  0.9965421   0.99985864  0.99318492  0.97658763\n",
      "  0.95023259  0.91438315  0.86939749  0.8157251   0.75390225  0.68454667\n",
      "  0.60835131  0.52607752  0.43854733  0.34663532  0.25125984  0.15337386\n",
      "  0.05395542 -0.04600213 -0.14550003 -0.24354415 -0.33915486 -0.43137684\n",
      " -0.51928865 -0.6020119  -0.67872005 -0.74864665 -0.81109301 -0.86543521\n",
      " -0.91113026 -0.9477216  -0.97484362 -0.99222533 -0.99969304 -0.99717216\n",
      " -0.98468786 -0.96236488 -0.93042627 -0.88919115]\n"
     ]
    },
    {
     "data": {
      "text/plain": [
       "<matplotlib.text.Text at 0x1075d4630>"
      ]
     },
     "execution_count": 45,
     "metadata": {},
     "output_type": "execute_result"
    },
    {
     "data": {
      "image/png": "[encoded data removed]",
      "text/plain": [
       "<matplotlib.figure.Figure at 0x1076205c0>"
      ]
     },
     "metadata": {},
     "output_type": "display_data"
    }
   ],
   "source": [
    "x = np.arange(0,10,0.1)\n",
    "print(x)\n",
    "y = np.cos(x)\n",
    "print(y)\n",
    "plt.scatter(x,y)\n",
    "plt.xlabel('x')\n",
    "plt.ylabel('cosine(x)')"
   ]
  }
 ],
 "metadata": {
  "kernelspec": {
   "display_name": "Python 3",
   "language": "python",
   "name": "python3"
  },
  "language_info": {
   "codemirror_mode": {
    "name": "ipython",
    "version": 3
   },
   "file_extension": ".py",
   "mimetype": "text/x-python",
   "name": "python",
   "nbconvert_exporter": "python",
   "pygments_lexer": "ipython3",
   "version": "3.4.5"
  }
 },
 "nbformat": 4,
 "nbformat_minor": 0
}
