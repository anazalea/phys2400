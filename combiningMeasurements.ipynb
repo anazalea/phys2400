{
 "cells": [
  {
   "cell_type": "markdown",
   "metadata": {},
   "source": [
    "# Combining Multiple Measurements\n",
    "*(Based on http://virgo-physics.sas.upenn.edu/uglabs/lab_manual/Error_Analysis.pdf)*\n",
    "\n",
    "When we take multiple measurements of a single quantity, we get a much better idea of its underlying value and can better characterize its associated uncertainty than we could with a single measurement.\n",
    "\n",
    "When we have a small number, N, of measurements to combine ($N\\leq 10$, as a rule of thumb) use these equations:\n",
    "\n",
    "The Mean ($\\chi_{average}$), the average of all measurements of $\\chi$:\n",
    "$$\n",
    "\\begin{equation*}\n",
    "\\chi_{average} = \\frac{\\chi_1 + \\chi_2 + ... + \\chi_N}{N}\n",
    "\\end{equation*}\n",
    "$$\n",
    "\n",
    "The Range (R), gives the 'spread' of the measurements:\n",
    "$$\n",
    "\\begin{equation*}\n",
    "R = \\chi_{max}-\\chi_{min}\n",
    "\\end{equation*}\n",
    "$$\n",
    "\n",
    "Uncertainty in the Mean ($\\Delta \\chi_{average}$), the uncertainty in the mean value of $\\chi$. The true value of $\\chi$ will be somewhere around $\\chi_{average}$. The range of values included in this 'somewhere' is given by the uncertainty in the mean.\n",
    "\n",
    "$$\n",
    "\\begin{equation*}\n",
    "\\Delta \\chi_{average} = \\frac{R}{2\\sqrt{N}}\n",
    "\\end{equation*}\n",
    "$$\n",
    "\n",
    "The final measured value you should report is $\\chi_{average} \\pm \\Delta \\chi_{average}$."
   ]
  },
  {
   "cell_type": "code",
   "execution_count": 15,
   "metadata": {
    "collapsed": false
   },
   "outputs": [],
   "source": [
    "values = np.array([  33.35107553,  107.61654307,  126.12128266,  100.70309131,  129.16130288,\n",
    "  153.28388564,   65.74439386,  203.96304796])"
   ]
  },
  {
   "cell_type": "code",
   "execution_count": 16,
   "metadata": {
    "collapsed": false
   },
   "outputs": [
    {
     "name": "stdout",
     "output_type": "stream",
     "text": [
      "114.993077864\n"
     ]
    }
   ],
   "source": [
    "average = np.sum(values)/len(values)\n",
    "print(average)"
   ]
  },
  {
   "cell_type": "code",
   "execution_count": 17,
   "metadata": {
    "collapsed": false
   },
   "outputs": [
    {
     "name": "stdout",
     "output_type": "stream",
     "text": [
      "170.61197243\n"
     ]
    }
   ],
   "source": [
    "R = np.max(values) - np.min(values)\n",
    "print(R)"
   ]
  },
  {
   "cell_type": "code",
   "execution_count": 19,
   "metadata": {
    "collapsed": false
   },
   "outputs": [
    {
     "name": "stdout",
     "output_type": "stream",
     "text": [
      "30.1602206642\n"
     ]
    }
   ],
   "source": [
    "dAverage = R/(2*np.sqrt(len(values)))\n",
    "print(dAverage)"
   ]
  },
  {
   "cell_type": "markdown",
   "metadata": {},
   "source": [
    "Here, we obtain a measured value of $170 \\pm 30$."
   ]
  }
 ],
 "metadata": {
  "kernelspec": {
   "display_name": "Python 2",
   "language": "python",
   "name": "python2"
  },
  "language_info": {
   "codemirror_mode": {
    "name": "ipython",
    "version": 2
   },
   "file_extension": ".py",
   "mimetype": "text/x-python",
   "name": "python",
   "nbconvert_exporter": "python",
   "pygments_lexer": "ipython2",
   "version": "2.7.12"
  }
 },
 "nbformat": 4,
 "nbformat_minor": 0
}
